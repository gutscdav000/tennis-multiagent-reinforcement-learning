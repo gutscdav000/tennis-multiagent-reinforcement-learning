{
 "cells": [
  {
   "cell_type": "markdown",
   "metadata": {},
   "source": [
    "# Collaboration and Competition\n",
    "\n",
    "---\n",
    "\n",
    "In this notebook, you will learn how to use the Unity ML-Agents environment for the third project of the [Deep Reinforcement Learning Nanodegree](https://www.udacity.com/course/deep-reinforcement-learning-nanodegree--nd893) program.\n",
    "\n",
    "### 1. Start the Environment\n",
    "\n",
    "We begin by importing the necessary packages.  If the code cell below returns an error, please revisit the project instructions to double-check that you have installed [Unity ML-Agents](https://github.com/Unity-Technologies/ml-agents/blob/master/docs/Installation.md) and [NumPy](http://www.numpy.org/)."
   ]
  },
  {
   "cell_type": "markdown",
   "metadata": {},
   "source": [
    "Next, we will start the environment!  **_Before running the code cell below_**, change the `file_name` parameter to match the location of the Unity environment that you downloaded.\n",
    "\n",
    "- **Mac**: `\"path/to/Tennis.app\"`\n",
    "- **Windows** (x86): `\"path/to/Tennis_Windows_x86/Tennis.exe\"`\n",
    "- **Windows** (x86_64): `\"path/to/Tennis_Windows_x86_64/Tennis.exe\"`\n",
    "- **Linux** (x86): `\"path/to/Tennis_Linux/Tennis.x86\"`\n",
    "- **Linux** (x86_64): `\"path/to/Tennis_Linux/Tennis.x86_64\"`\n",
    "- **Linux** (x86, headless): `\"path/to/Tennis_Linux_NoVis/Tennis.x86\"`\n",
    "- **Linux** (x86_64, headless): `\"path/to/Tennis_Linux_NoVis/Tennis.x86_64\"`\n",
    "\n",
    "For instance, if you are using a Mac, then you downloaded `Tennis.app`.  If this file is in the same folder as the notebook, then the line below should appear as follows:\n",
    "```\n",
    "env = UnityEnvironment(file_name=\"Tennis.app\")\n",
    "```"
   ]
  },
  {
   "cell_type": "code",
   "execution_count": 1,
   "metadata": {},
   "outputs": [
    {
     "name": "stderr",
     "output_type": "stream",
     "text": [
      "INFO:unityagents:\n",
      "'Academy' started successfully!\n",
      "Unity Academy name: Academy\n",
      "        Number of Brains: 1\n",
      "        Number of External Brains : 1\n",
      "        Lesson number : 0\n",
      "        Reset Parameters :\n",
      "\t\t\n",
      "Unity brain name: TennisBrain\n",
      "        Number of Visual Observations (per agent): 0\n",
      "        Vector Observation space type: continuous\n",
      "        Vector Observation space size (per agent): 8\n",
      "        Number of stacked Vector Observation: 3\n",
      "        Vector Action space type: continuous\n",
      "        Vector Action space size (per agent): 2\n",
      "        Vector Action descriptions: , \n"
     ]
    }
   ],
   "source": [
    "from unityagents import UnityEnvironment\n",
    "import numpy as np\n",
    "env = UnityEnvironment(file_name=\"Tennis_Linux_NoVis/Tennis.x86_64\")"
   ]
  },
  {
   "cell_type": "markdown",
   "metadata": {},
   "source": [
    "Environments contain **_brains_** which are responsible for deciding the actions of their associated agents. Here we check for the first brain available, and set it as the default brain we will be controlling from Python."
   ]
  },
  {
   "cell_type": "markdown",
   "metadata": {},
   "source": [
    "### 2. Examine the State and Action Spaces\n",
    "\n",
    "In this environment, two agents control rackets to bounce a ball over a net. If an agent hits the ball over the net, it receives a reward of +0.1.  If an agent lets a ball hit the ground or hits the ball out of bounds, it receives a reward of -0.01.  Thus, the goal of each agent is to keep the ball in play.\n",
    "\n",
    "The observation space consists of 8 variables corresponding to the position and velocity of the ball and racket. Two continuous actions are available, corresponding to movement toward (or away from) the net, and jumping. \n",
    "\n",
    "Run the code cell below to print some information about the environment."
   ]
  },
  {
   "cell_type": "code",
   "execution_count": 2,
   "metadata": {},
   "outputs": [
    {
     "name": "stdout",
     "output_type": "stream",
     "text": [
      "Number of agents: 2\n",
      "Size of each action: 2\n",
      "There are 2 agents. Each observes a state with length: 24\n",
      "The state for the first agent looks like: [ 0.          0.          0.          0.          0.          0.\n",
      "  0.          0.          0.          0.          0.          0.\n",
      "  0.          0.          0.          0.         -6.65278625 -1.5\n",
      " -0.          0.          6.83172083  6.         -0.          0.        ]\n"
     ]
    }
   ],
   "source": [
    "# get the default brain\n",
    "brain_name = env.brain_names[0]\n",
    "brain = env.brains[brain_name]\n",
    "# reset the environment\n",
    "env_info = env.reset(train_mode=True)[brain_name]\n",
    "\n",
    "# number of agents \n",
    "num_agents = len(env_info.agents)\n",
    "print('Number of agents:', num_agents)\n",
    "\n",
    "# size of each action\n",
    "action_size = brain.vector_action_space_size\n",
    "print('Size of each action:', action_size)\n",
    "\n",
    "# examine the state space \n",
    "states = env_info.vector_observations\n",
    "state_size = states.shape[1]\n",
    "print('There are {} agents. Each observes a state with length: {}'.format(states.shape[0], state_size))\n",
    "print('The state for the first agent looks like:', states[0])"
   ]
  },
  {
   "cell_type": "markdown",
   "metadata": {},
   "source": [
    "### 3. Take Random Actions in the Environment\n",
    "\n",
    "In the next code cell, you will learn how to use the Python API to control the agents and receive feedback from the environment.\n",
    "\n",
    "Once this cell is executed, you will watch the agents' performance, if they select actions at random with each time step.  A window should pop up that allows you to observe the agents.\n",
    "\n",
    "Of course, as part of the project, you'll have to change the code so that the agents are able to use their experiences to gradually choose better actions when interacting with the environment!"
   ]
  },
  {
   "cell_type": "code",
   "execution_count": 3,
   "metadata": {},
   "outputs": [],
   "source": [
    "# for i in range(1, 6):                                      # play game for 5 episodes\n",
    "#     env_info = env.reset(train_mode=False)[brain_name]     # reset the environment    \n",
    "#     states = env_info.vector_observations                  # get the current state (for each agent)\n",
    "#     scores = np.zeros(num_agents)                          # initialize the score (for each agent)\n",
    "#     while True:\n",
    "#         actions = np.random.randn(num_agents, action_size) # select an action (for each agent)\n",
    "#         actions = np.clip(actions, -1, 1)                  # all actions between -1 and 1\n",
    "#         print('-'*65)\n",
    "#         print(actions)\n",
    "        \n",
    "#         env_info = env.step(actions)[brain_name]           # send all actions to tne environment\n",
    "#         next_states = env_info.vector_observations         # get next state (for each agent)\n",
    "#         rewards = env_info.rewards                         # get reward (for each agent)\n",
    "#         dones = env_info.local_done                        # see if episode finished\n",
    "#         scores += env_info.rewards                         # update the score (for each agent)\n",
    "#         states = next_states                               # roll over states to next time step\n",
    "#         if np.any(dones):                                  # exit loop if episode finished\n",
    "#             break\n",
    "#     print('Score (max over agents) from episode {}: {}'.format(i, np.max(scores)))\n",
    "# env.close()"
   ]
  },
  {
   "cell_type": "markdown",
   "metadata": {},
   "source": [
    "### 4. It's Your Turn!\n",
    "\n",
    "Now it's your turn to train your own agent to solve the environment!  When training the environment, set `train_mode=True`, so that the line for resetting the environment looks like the following:\n",
    "```python\n",
    "env_info = env.reset(train_mode=True)[brain_name]\n",
    "```"
   ]
  },
  {
   "cell_type": "code",
   "execution_count": 4,
   "metadata": {},
   "outputs": [],
   "source": [
    "# from collections import deque\n",
    "# import torch\n",
    "# # from ddpg_agent import Agent\n",
    "# from maddpg import MADDPG\n",
    "# import matplotlib.pyplot as plt\n",
    "# %matplotlib inline \n",
    "\n",
    "# print(f\"action space: {action_size} state space: {state_size}\")\n",
    "# # agent1 = Agent(state_size=state_size, action_size=action_size, random_seed=1)\n",
    "# # agent2 = Agent(state_size=state_size, action_size=action_size, random_seed=1)\n",
    "# # agent = MADDPG()\n",
    "# agent = MADDPG(seed=42, \n",
    "#                buffer_size=10000, \n",
    "#                batch_size=64,\n",
    "#                noise_start=0.5,\n",
    "#                noise_decay=1.0,\n",
    "#                update_every=2, \n",
    "#                gamma=.9999, \n",
    "#                t_stop_noise=4000)\n",
    "\n",
    "\n",
    "# def ddpg(n_episodes=5000, max_t=1000, reset_time=100, print_every=100):\n",
    "#     scores_deque = deque(maxlen=print_every)\n",
    "#     scores = []\n",
    "    \n",
    "#     for i_episode in range(1, n_episodes+1):\n",
    "#         env_info = env.reset(train_mode=True)[brain_name]     # reset the environment    \n",
    "#         states = env_info.vector_observations                  # get the current state (for each agent)\n",
    "#         score = []\n",
    "# #         score = np.zeros(num_agents)                          # initialize the score (for each agent)\n",
    "# #         agent.reset()\n",
    "        \n",
    "#         for t in range(max_t):               \n",
    "# #             actions = [ agent.act(state) for agent, state in zip(agent.agents, states)\n",
    "#             actions = agent.act(states)\n",
    "            \n",
    "#             env_info = env.step(actions)[brain_name]           # send all actions to tne environment\n",
    "#             next_states = env_info.vector_observations         # get next state (for each agent)\n",
    "#             rewards = env_info.rewards                         # get reward (for each agent)\n",
    "#             dones = env_info.local_done                        # see if episode finished\n",
    "#             agent.step(states, actions, rewards, dones )\n",
    "# #             agent.step(states, actions, rewards, next_states, dones)\n",
    "# #             print('-'*65)\n",
    "# #             print(states.shape)\n",
    "# #             print(actions)\n",
    "# #             print(rewards)\n",
    "# #             print(next_states.shape)\n",
    "# #             print(dones)\n",
    "# #             agent1.step(states[0], actions[0], rewards, next_states[0], dones)\n",
    "# #             agent2.step(states[1], actions[1], rewards, next_states[1], dones)\n",
    "                \n",
    "#             score.append(rewards)                                   # update the score (for each agent)\n",
    "#             states = next_states                               # roll over states to next time step\n",
    "\n",
    "#             if np.any(dones):\n",
    "#                 print(\"\\tgame score:\", score)\n",
    "#                 break         \n",
    "#         episode_score = np.max(np.sum(np.array(score),axis=0))\n",
    "#         scores_deque.append(score)\n",
    "#         scores.append(score)\n",
    "#         print('\\rEpisode {}\\tAverage Score: {:.2f}'.format(i_episode, np.mean(scores_deque)), end=\"\")\n",
    "#         if i_episode % print_every == 0:\n",
    "#             print('\\rEpisode {}\\tAverage Score: {:.2f}'.format(i_episode, np.mean(scores_deque)))\n",
    "#         # Keep higher threshold during training\n",
    "#         if np.mean(scores_deque) > (0.5):\n",
    "#             torch.save(agent1.actor_local.state_dict(), 'checkpoint_actor1.pth')\n",
    "#             torch.save(agent1.critic_local.state_dict(), 'checkpoint_critic1.pth')\n",
    "#             torch.save(agent2.actor_local.state_dict(), 'checkpoint_actor2.pth')\n",
    "#             torch.save(agent2.critic_local.state_dict(), 'checkpoint_critic2.pth')\n",
    "#             print('\\nEnvironment solved in {} episodes.\\tAverage Score: {:.3f}'.format(i_episode, np.mean(scores_deque)))\n",
    "#             break\n",
    "            \n",
    "#     return scores\n",
    "\n",
    "# scores = ddpg(n_episodes=2000, max_t=1000, reset_time=100, print_every=100)"
   ]
  },
  {
   "cell_type": "code",
   "execution_count": 5,
   "metadata": {},
   "outputs": [
    {
     "name": "stderr",
     "output_type": "stream",
     "text": [
      "/home/ubuntu/anaconda3/lib/python3.6/site-packages/torch/nn/functional.py:1340: UserWarning: nn.functional.tanh is deprecated. Use torch.tanh instead.\n",
      "  warnings.warn(\"nn.functional.tanh is deprecated. Use torch.tanh instead.\")\n"
     ]
    },
    {
     "name": "stdout",
     "output_type": "stream",
     "text": [
      "Episode 200\tAverage Score: 0.007\n",
      "Episode 400\tAverage Score: 0.005\n",
      "Episode 600\tAverage Score: 0.000\n",
      "Episode 800\tAverage Score: 0.000\n",
      "Episode 1000\tAverage Score: 0.000\n",
      "Episode 1200\tAverage Score: 0.000\n",
      "Episode 1400\tAverage Score: 0.000\n",
      "Episode 1600\tAverage Score: 0.014\n",
      "Episode 1800\tAverage Score: 0.000\n",
      "Episode 2000\tAverage Score: 0.019\n",
      "Episode 2200\tAverage Score: 0.047\n",
      "Episode 2400\tAverage Score: 0.008\n",
      "Episode 2600\tAverage Score: 0.041\n",
      "Episode 2800\tAverage Score: 0.054\n",
      "Episode 3000\tAverage Score: 0.039\n",
      "Episode 3200\tAverage Score: 0.047\n",
      "Episode 3400\tAverage Score: 0.042\n",
      "Episode 3600\tAverage Score: 0.063\n",
      "Episode 3800\tAverage Score: 0.071\n",
      "Episode 4000\tAverage Score: 0.048\n",
      "Episode 4200\tAverage Score: 0.054\n",
      "Episode 4400\tAverage Score: 0.057\n",
      "Episode 4600\tAverage Score: 0.075\n",
      "Episode 4800\tAverage Score: 0.043\n",
      "Episode 5000\tAverage Score: 0.063\n",
      "Episode 5200\tAverage Score: 0.119\n",
      "Episode 5400\tAverage Score: 0.180\n",
      "Episode 5600\tAverage Score: 0.186\n",
      "Episode 5800\tAverage Score: 0.151\n",
      "Episode 6000\tAverage Score: 0.361\n",
      "Episode 6200\tAverage Score: 0.171\n",
      "Episode 6400\tAverage Score: 0.223\n",
      "Episode 6600\tAverage Score: 0.183\n",
      "Episode 6800\tAverage Score: 0.167\n",
      "Episode 7000\tAverage Score: 0.195\n",
      "Episode 7200\tAverage Score: 0.286\n",
      "Episode 7400\tAverage Score: 0.188\n",
      "Episode 7600\tAverage Score: 0.172\n",
      "Episode 7800\tAverage Score: 0.265\n",
      "Episode 8000\tAverage Score: 0.323\n",
      "Episode 8200\tAverage Score: 0.125\n",
      "Episode 8400\tAverage Score: 0.132\n",
      "Episode 8600\tAverage Score: 0.164\n",
      "Episode 8738\tAverage Score: 0.503\n",
      "Environment solved in 8738 episodes!\tAverage Score: 0.503\n"
     ]
    }
   ],
   "source": [
    "from collections import deque\n",
    "import torch\n",
    "# from ddpg_agent import Agent\n",
    "from maddpg import MADDPG\n",
    "import matplotlib.pyplot as plt\n",
    "%matplotlib inline \n",
    "n_episodes = 10000\n",
    "max_t = 1000\n",
    "scores = []\n",
    "scores_deque = deque(maxlen=100)\n",
    "scores_avg = []\n",
    "\n",
    "\n",
    "# buffer_size=100000,\n",
    "# batch_size=256,\n",
    "# gamma=0.999,\n",
    "# update_every=4,\n",
    "# noise_start=1.0,\n",
    "# noise_decay=1.0,\n",
    "# t_stop_noise=30000,\n",
    "\n",
    "\n",
    "agent = MADDPG(seed=42, \n",
    "               buffer_size=10000, \n",
    "               batch_size=64,\n",
    "               noise_start=0.5,\n",
    "               noise_decay=1.0,\n",
    "               update_every=2, \n",
    "               gamma=.99, \n",
    "               t_stop_noise=4000)\n",
    "\n",
    "\n",
    "for i_episode in range(1, n_episodes+1):\n",
    "    rewards = []\n",
    "\n",
    "    # reset the environment\n",
    "    env_info = env.reset(train_mode=True)[brain_name]\n",
    "\n",
    "    # get the current state\n",
    "    state = env_info.vector_observations\n",
    "\n",
    "    # looping over the steps\n",
    "    for t in range(max_t):\n",
    "        # select an action\n",
    "        action = agent.act(state)\n",
    "        # take action in the environment\n",
    "        env_info = env.step(action)[brain_name]\n",
    "        next_state = env_info.vector_observations\n",
    "        rewards_vec = env_info.rewards\n",
    "        done = env_info.local_done\n",
    "        agent.step(state, action, rewards_vec, next_state, done)\n",
    "        state = next_state\n",
    "        rewards.append(rewards_vec)\n",
    "        if any(done):\n",
    "            break\n",
    "\n",
    "    # calculate reward for the episode\n",
    "    episode_reward = np.max(np.sum(np.array(rewards),axis=0))\n",
    "\n",
    "    scores.append(episode_reward)             # save most recent score to overall score\n",
    "    scores_deque.append(episode_reward)       # save most recent score to running window of 100 last scores\n",
    "    current_avg_score = np.mean(scores_deque)\n",
    "    scores_avg.append(current_avg_score)      # save average of last 100 scores to average score array\n",
    "\n",
    "    print('\\rEpisode {}\\tAverage Score: {:.3f}'.format(i_episode, current_avg_score),end=\"\")\n",
    "\n",
    "    # print score every 200 episodes\n",
    "    if i_episode % 200 == 0:\n",
    "        print('\\rEpisode {}\\tAverage Score: {:.3f}'.format(i_episode, current_avg_score))\n",
    "        agent.save_agents()\n",
    "\n",
    "    # exit the loop, if environment is solved\n",
    "    if np.mean(scores_deque)>=.5:\n",
    "        print('\\nEnvironment solved in {:d} episodes!\\tAverage Score: {:.3f}'.format(i_episode, np.mean(scores_deque)))\n",
    "        agent.save_agents()\n",
    "        break"
   ]
  },
  {
   "cell_type": "code",
   "execution_count": 8,
   "metadata": {},
   "outputs": [
    {
     "data": {
      "image/png": "[encoded data removed]",
      "text/plain": [
       "<Figure size 432x288 with 1 Axes>"
      ]
     },
     "metadata": {},
     "output_type": "display_data"
    }
   ],
   "source": [
    "# print(scores)\n",
    "plt.plot(scores)\n",
    "# plt.plot(scores[1])\n",
    "plt.ylabel('Total Rewards')\n",
    "plt.xlabel('Epoch')\n",
    "plt.title('Total Rewards vs Epoch.')\n",
    "plt.savefig('rewards_to_epoch.png')\n",
    "plt.show()"
   ]
  },
  {
   "cell_type": "code",
   "execution_count": null,
   "metadata": {},
   "outputs": [],
   "source": []
  }
 ],
 "metadata": {
  "kernelspec": {
   "display_name": "Python 3",
   "language": "python",
   "name": "python3"
  },
  "language_info": {
   "codemirror_mode": {
    "name": "ipython",
    "version": 3
   },
   "file_extension": ".py",
   "mimetype": "text/x-python",
   "name": "python",
   "nbconvert_exporter": "python",
   "pygments_lexer": "ipython3",
   "version": "3.6.6"
  }
 },
 "nbformat": 4,
 "nbformat_minor": 2
}
